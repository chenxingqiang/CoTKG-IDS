{
 "cells": [
  {
   "cell_type": "markdown",
   "metadata": {},
   "source": [
    "# Model Evaluation for CoT-KG Network Intrusion Detection"
   ]
  },
  {
   "cell_type": "code",
   "execution_count": null,
   "metadata": {},
   "outputs": [],
   "source": [
    "import sys\n",
    "sys.path.append('..')\n",
    "\n",
    "from src.data_processing.preprocess import load_and_preprocess_data\n",
    "from src.models.graph_sage_model import GraphSAGE, evaluate_graph_sage\n",
    "from src.models.hybrid_model import HybridModel, evaluate_hybrid_model\n",
    "from src.evaluation.metrics import evaluate_model\n",
    "from src.visualization.kg_visualizer import visualize_feature_importance\n",
    "\n",
    "import torch\n",
    "import pandas as pd\n",
    "import matplotlib.pyplot as plt"
   ]
  },
  {
   "cell_type": "markdown",
   "metadata": {},
   "source": [
    "## Load Data and Models"
   ]
  },
  {
   "cell_type": "code",
   "execution_count": null,
   "metadata": {},
   "outputs": [],
   "source": [
    "data = load_and_preprocess_data('../data/processed/CICIDS2017_processed.csv')\n",
    "\n",
    "graph_sage_model = GraphSAGE.load('../models/graph_sage_model.pt')\n",
    "hybrid_model = HybridModel.load('../models/hybrid_model.pt')"
   ]
  },
  {
   "cell_type": "markdown",
   "metadata": {},
   "source": [
    "## Evaluate Models"
   ]
  },
  {
   "cell_type": "code",
   "execution_count": null,
   "metadata": {},
   "outputs": [],
   "source": [
    "graph_sage_acc, graph_sage_pred = evaluate_graph_sage(graph_sage_model, data)\n",
    "hybrid_acc, hybrid_pred = evaluate_hybrid_model(hybrid_model, data)\n",
    "\n",
    "print(f'GraphSAGE Accuracy: {graph_sage_acc:.4f}')\n",
    "print(f'Hybrid Model Accuracy: {hybrid_acc:.4f}')"
   ]
  },
  {
   "cell_type": "markdown",
   "metadata": {},
   "source": [
    "## Detailed Evaluation Metrics"
   ]
  },
  {
   "cell_type": "code",
   "execution_count": null,
   "metadata": {},
   "outputs": [],
   "source": [
    "graph_sage_cm, graph_sage_report = evaluate_model(data.y[data.test_mask], graph_sage_pred, class_names=data.classes)\n",
    "hybrid_cm, hybrid_report = evaluate_model(data.y[data.test_mask], hybrid_pred, class_names=data.classes)\n",
    "\n",
    "print(\"GraphSAGE Classification Report:\")\n",
    "print(graph_sage_report)\n",
    "print(\"\\nHybrid Model Classification Report:\")\n",
    "print(hybrid_report)"
   ]
  },
  {
   "cell_type": "markdown",
   "metadata": {},
   "source": [
    "## Visualize Feature Importance"
   ]
  },
  {
   "cell_type": "code",
   "execution_count": null,
   "metadata": {},
   "outputs": [],
   "source": [
    "from src.explainability.integrated_gradients import ExplainabilityAnalyzer\n",
    "\n",
    "explainer = ExplainabilityAnalyzer(hybrid_model)\n",
    "feature_importance = explainer.explain(data, target_class=0)  # Explain for the first class\n",
    "visualize_feature_importance(feature_importance)"
   ]
  }
 ],
 "metadata": {
  "kernelspec": {
   "display_name": "Python 3",
   "language": "python",
   "name": "python3"
  },
  "language_info": {
   "codemirror_mode": {
    "name": "ipython",
    "version": 3
   },
   "file_extension": ".py",
   "mimetype": "text/x-python",
   "name": "python",
   "nbconvert_exporter": "python",
   "pygments_lexer": "ipython3",
   "version": "3.8.5"
  }
 },
 "nbformat": 4,
 "nbformat_minor": 4
}