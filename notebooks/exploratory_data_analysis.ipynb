{
    "cells": [
        {
            "cell_type": "markdown",
            "metadata": {},
            "source": [
                "# Exploratory Data Analysis for CoT-KG Network Intrusion Detection"
            ]
        },
        {
            "cell_type": "code",
            "execution_count": null,
            "metadata": {},
            "outputs": [],
            "source": [
                "import sys\n",
                "sys.path.append('..')\n",
                "\n",
                "import pandas as pd\n",
                "import numpy as np\n",
                "import matplotlib.pyplot as plt\n",
                "import seaborn as sns\n",
                "from src.data_processing.preprocess import load_and_preprocess_data\n",
                "\n",
                "%matplotlib inline\n",
                "plt.style.use('seaborn')"
            ]
        },
        {
            "cell_type": "markdown",
            "metadata": {},
            "source": [
                "## Load Data"
            ]
        },
        {
            "cell_type": "code",
            "execution_count": null,
            "metadata": {},
            "outputs": [],
            "source": [
                "df = load_and_preprocess_data('../data/raw/CICIDS2017.csv')\n",
                "print(f\"Dataset shape: {df.shape}\")\n",
                "df.head()"
            ]
        },
        {
            "cell_type": "markdown",
            "metadata": {},
            "source": [
                "## Data Overview"
            ]
        },
        {
            "cell_type": "code",
            "execution_count": null,
            "metadata": {},
            "outputs": [],
            "source": [
                "df.info()"
            ]
        },
        {
            "cell_type": "markdown",
            "metadata": {},
            "source": [
                "## Class Distribution"
            ]
        },
        {
            "cell_type": "code",
            "execution_count": null,
            "metadata": {},
            "outputs": [],
            "source": [
                "plt.figure(figsize=(12, 6))\n",
                "df['Label'].value_counts().plot(kind='bar')\n",
                "plt.title('Distribution of Network Traffic Classes')\n",
                "plt.xlabel('Class')\n",
                "plt.ylabel('Count')\n",
                "plt.xticks(rotation=45)\n",
                "plt.tight_layout()\n",
                "plt.show()"
            ]
        },
        {
            "cell_type": "markdown",
            "metadata": {},
            "source": [
                "## Statistical Summary"
            ]
        },
        {
            "cell_type": "code",
            "execution_count": null,
            "metadata": {},
            "outputs": [],
            "source": [
                "df.describe()"
            ]
        },
        {
            "cell_type": "markdown",
            "metadata": {},
            "source": [
                "## Correlation Analysis"
            ]
        },
        {
            "cell_type": "code",
            "execution_count": null,
            "metadata": {},
            "outputs": [],
            "source": [
                "numeric_cols = df.select_dtypes(include=[np.number]).columns\n",
                "corr_matrix = df[numeric_cols].corr()\n",
                "\n",
                "plt.figure(figsize=(20, 16))\n",
                "sns.heatmap(corr_matrix, annot=False, cmap='coolwarm')\n",
                "plt.title('Correlation Heatmap of Numeric Features')\n",
                "plt.tight_layout()\n",
                "plt.show()"
            ]
        },
        {
            "cell_type": "markdown",
            "metadata": {},
            "source": [
                "## Feature Distributions"
            ]
        },
        {
            "cell_type": "code",
            "execution_count": null,
            "metadata": {},
            "outputs": [],
            "source": [
                "def plot_feature_distributions(df, features, n_cols=3):\n",
                "    n_rows = (len(features) - 1) // n_cols + 1\n",
                "    fig, axes = plt.subplots(n_rows, n_cols, figsize=(5*n_cols, 4*n_rows))\n",
                "    axes = axes.flatten()\n",
                "\n",
                "    for i, feature in enumerate(features):\n",
                "        sns.histplot(df[feature], ax=axes[i], kde=True)\n",
                "        axes[i].set_title(feature)\n",
                "        axes[i].set_xlabel('')\n",
                "\n",
                "    for i in range(len(features), len(axes)):\n",
                "        fig.delaxes(axes[i])\n",
                "\n",
                "    plt.tight_layout()\n",
                "    plt.show()\n",
                "\n",
                "# Select a subset of features to plot\n",
                "features_to_plot = ['Flow Duration', 'Total Fwd Packets', 'Total Backward Packets', \n",
                "                    'Total Length of Fwd Packets', 'Total Length of Bwd Packets', \n",
                "                    'Fwd Packet Length Max', 'Bwd Packet Length Max']\n",
                "\n",
                "plot_feature_distributions(df, features_to_plot)"
            ]
        },
        {
            "cell_type": "markdown",
            "metadata": {},
            "source": [
                "## Feature Importance"
            ]
        },
        {
            "cell_type": "code",
            "execution_count": null,
            "metadata": {},
            "outputs": [],
            "source": [
                "from sklearn.ensemble import RandomForestClassifier\n",
                "from sklearn.preprocessing import LabelEncoder\n",
                "\n",
                "# Prepare the data\n",
                "X = df.drop('Label', axis=1)\n",
                "y = LabelEncoder().fit_transform(df['Label'])\n",
                "\n",
                "# Train a Random Forest classifier\n",
                "rf = RandomForestClassifier(n_estimators=100, random_state=42)\n",
                "rf.fit(X, y)\n",
                "\n",
                "# Get feature importances\n",
                "importances = pd.DataFrame({'feature': X.columns, 'importance': rf.feature_importances_})\n",
                "importances = importances.sort_values('importance', ascending=False).head(20)\n",
                "\n",
                "# Plot feature importances\n",
                "plt.figure(figsize=(10, 8))\n",
                "sns.barplot(x='importance', y='feature', data=importances)\n",
                "plt.title('Top 20 Most Important Features')\n",
                "plt.tight_layout()\n",
                "plt.show()"
            ]
        },
        {
            "cell_type": "markdown",
            "metadata": {},
            "source": [
                "## Pairplot of Top Features"
            ]
        },
        {
            "cell_type": "code",
            "execution_count": null,
            "metadata": {},
            "outputs": [],
            "source": [
                "top_features = importances['feature'].head(5).tolist() + ['Label']\n",
                "sns.pairplot(df[top_features], hue='Label')\n",
                "plt.tight_layout()\n",
                "plt.show()"
            ]
        },
        {
            "cell_type": "markdown",
            "metadata": {},
            "source": [
                "## Conclusion"
            ]
        },
        {
            "cell_type": "markdown",
            "metadata": {},
            "source": [
                "Based on our exploratory data analysis, we can draw the following conclusions:\n",
                "\n",
                "1. The dataset is imbalanced, with some classes being significantly underrepresented.\n",
                "2. There are strong correlations between certain features, which might indicate redundancy.\n",
                "3. Many features have skewed distributions, which might require normalization or transformation.\n",
                "4. The top important features identified by the Random Forest classifier could be good candidates for our initial focus in the CoT-KG model.\n",
                "5. The pairplot of top features shows clear separation between some classes, indicating that these features are indeed informative for classification.\n",
                "\n",
                "Next steps:\n",
                "1. Address class imbalance through techniques like oversampling or undersampling.\n",
                "2. Consider feature selection or dimensionality reduction to address multicollinearity.\n",
                "3. Apply appropriate scaling or transformation to the skewed features.\n",
                "4. Incorporate the insights from this EDA into the design of our CoT prompts and knowledge graph structure."
            ]
        }
    ],
    "metadata": {
        "kernelspec": {
            "display_name": "Python 3",
            "language": "python",
            "name": "python3"
        },
        "language_info": {
            "codemirror_mode": {
                "name": "ipython",
                "version": 3
            },
            "file_extension": ".py",
            "mimetype": "text/x-python",
            "name": "python",
            "nbconvert_exporter": "python",
            "pygments_lexer": "ipython3",
            "version": "3.8.5"
        }
    },
    "nbformat": 4,
    "nbformat_minor": 4
}
